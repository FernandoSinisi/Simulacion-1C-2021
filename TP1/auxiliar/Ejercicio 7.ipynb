{
 "cells": [
  {
   "cell_type": "markdown",
   "metadata": {},
   "source": [
    "# Ejercicio 7"
   ]
  },
  {
   "cell_type": "markdown",
   "metadata": {},
   "source": [
    "Dadas las dimensiones y la discretización, se plantea la solución a través de una matriz de 200x200 que evoluciona en instantes discretos, cada uno asociado a un estado estático a partir del cual se determina el próximo. Cada una de las celdas puede estar ocupada por un agente, cuya posición inicial se determina de forma aleatoria (con igual probabilidad de ocupar cualquier celda, y utilizando recálculo en el caso de colisión con un agente ya asignado). \n",
    "\n",
    "Para simular el contagio, a partir de un estado de la matriz se recorren las celdas adyacentes a cada agente infectado hasta la 6ta celda de distancia. Para cada celda ocupada por un agente no enfermo a una determinada distancia, se utiliza una variable aleatoria entre 0 y 1 para determinar si el mismo se contagia, de acuerdo a las probabilidades dadas en la consigna. \n",
    "\n",
    "Se guardan los respectivos estados de cada iteración en términos de arreglos de agentes enfermos y agentes sanos para poder realizar la animación.\n"
   ]
  },
  {
   "cell_type": "code",
   "execution_count": 1,
   "metadata": {},
   "outputs": [],
   "source": [
    "import random \n",
    "import matplotlib.pyplot as plt\n",
    "import numpy as np\n",
    "from matplotlib.ticker import (MultipleLocator, AutoMinorLocator, FormatStrFormatter)"
   ]
  },
  {
   "cell_type": "code",
   "execution_count": 2,
   "metadata": {},
   "outputs": [],
   "source": [
    "# Default for numpy: edgeitems = 3, line_width = 80\n",
    "np.set_printoptions(edgeitems = 14, linewidth = 300)"
   ]
  },
  {
   "cell_type": "code",
   "execution_count": 3,
   "metadata": {},
   "outputs": [],
   "source": [
    "STATE_LEN = 200 \n",
    "ELEMENTS = STATE_LEN * STATE_LEN\n",
    "\n",
    "AGENTS = 1000\n",
    "AGENTS_A = int(AGENTS * 0.7)\n",
    "AGENTS_B = int(AGENTS * 0.25)\n",
    "AGENTS_C = int(AGENTS * 0.05)\n",
    "AGENTS_INF = int(AGENTS * 0.02)\n",
    "\n",
    "INFECTED = \"_X\"\n",
    "AGENT_A = \"A\"\n",
    "AGENT_B = \"B\"\n",
    "AGENT_C = \"C\"\n",
    "AGENT_KINDS = [AGENT_A, AGENT_B, AGENT_C]\n",
    "EMPTY = \".\"\n",
    "ZERO_TO_STATE_LEN = range(STATE_LEN)\n",
    "\n",
    "INFECT_NEAR_P = 0.7\n",
    "INFECT_FAR_P = 0.5\n",
    "\n",
    "DIRECTIONS = [(0, 1), (0, -1),\n",
    "              (1, 0), (-1, 0)]"
   ]
  },
  {
   "cell_type": "code",
   "execution_count": 4,
   "metadata": {},
   "outputs": [],
   "source": [
    "to_infect = np.random.choice( range(AGENTS), AGENTS_INF )\n",
    "infected_pos = []\n",
    "healthy_pos = []"
   ]
  },
  {
   "cell_type": "code",
   "execution_count": 5,
   "metadata": {},
   "outputs": [],
   "source": [
    "def setAgents(agents_len, agent, asigned):\n",
    "    for i in range(agents_len):\n",
    "        while True:\n",
    "            x = np.random.choice(ZERO_TO_STATE_LEN, 1)[0]\n",
    "            y = np.random.choice(ZERO_TO_STATE_LEN, 1)[0]\n",
    "            \n",
    "            if ( state[x][y] == EMPTY ):\n",
    "                break\n",
    "\n",
    "        state[x][y] = str(asigned) + \"_\" + agent\n",
    "        \n",
    "        if (asigned in to_infect):\n",
    "            state[x][y] += INFECTED\n",
    "            infected_pos.append( (asigned, x, y) )\n",
    "        \n",
    "        else:\n",
    "            healthy_pos.append( (asigned, x, y) )\n",
    "            \n",
    "        asigned += 1\n",
    "    \n",
    "    return asigned"
   ]
  },
  {
   "cell_type": "code",
   "execution_count": 6,
   "metadata": {},
   "outputs": [],
   "source": [
    "state = [] \n",
    "\n",
    "# State initialization\n",
    "for i in ZERO_TO_STATE_LEN:\n",
    "    state.append([])\n",
    "    for j in ZERO_TO_STATE_LEN:\n",
    "        state[i].append(EMPTY)\n",
    "\n",
    "asigned = 0\n",
    "asigned = setAgents(AGENTS_A, AGENT_A, asigned)\n",
    "asigned = setAgents(AGENTS_B, AGENT_B, asigned)\n",
    "asigned = setAgents(AGENTS_C, AGENT_C, asigned)\n",
    "\n",
    "# print( np.matrix(state) ) "
   ]
  },
  {
   "cell_type": "code",
   "execution_count": 7,
   "metadata": {},
   "outputs": [
    {
     "name": "stdout",
     "output_type": "stream",
     "text": [
      "20 980\n"
     ]
    }
   ],
   "source": [
    "print( str( len( infected_pos ) ) + \" \" + str( len( healthy_pos ) ) )"
   ]
  },
  {
   "cell_type": "code",
   "execution_count": 8,
   "metadata": {},
   "outputs": [],
   "source": [
    "def isPossibleMovement(state, x, y):\n",
    "    if x<0 or y<0:\n",
    "        return False\n",
    "    try:\n",
    "        state[x][y]\n",
    "        return True\n",
    "    except IndexError:\n",
    "        return False"
   ]
  },
  {
   "cell_type": "code",
   "execution_count": 9,
   "metadata": {},
   "outputs": [],
   "source": [
    "def _infect(state, elements, x, y, prob):\n",
    "    for x, y in elements:\n",
    "        if ( not isPossibleMovement(state, x, y) ) or (state[x][y] ==  EMPTY):\n",
    "            continue\n",
    "        \n",
    "        agent_kind = state[x][y].split(\"_\")[1]\n",
    "        \n",
    "        try:\n",
    "            state[x][y].split(\"_\")[2]\n",
    "            continue\n",
    "        except IndexError:\n",
    "            pass\n",
    "            \n",
    "        if (random.random() < prob):\n",
    "            state[x][y] += INFECTED"
   ]
  },
  {
   "cell_type": "code",
   "execution_count": 10,
   "metadata": {},
   "outputs": [],
   "source": [
    "def infect(state, next_state, x, y):\n",
    "    near = [\n",
    "        # dist 1\n",
    "        (x, y + 1), (x + 1, y + 1), (x + 1, y), (x + 1, y - 1), \n",
    "        (x, y - 1), (x - 1, y - 1), (x - 1, y), (x - 1, y + 1), \n",
    "    \n",
    "        # dist = 2\n",
    "        (x, y + 2), (x + 2, y), (x, y - 2), (x - 2, y), \n",
    "        (x + 1, y + 1), (x + 1, y - 1), (x - 1, y - 1), (x - 1, y + 1),\n",
    "    \n",
    "        # dist = 3\n",
    "        (x, y + 3), (x + 3, y), (x, y - 3), (x - 3, y),\n",
    "        (x + 1, y + 2), (x + 2, y + 1), (x + 2, y - 1), (x + 1, y - 2),\n",
    "        (x - 1, y - 2), (x - 2, y - 1), (x - 2, y + 1), (x - 1, y + 2),\n",
    "    ]\n",
    "    \n",
    "    _infect(state, next_state, near, x, y, INFECT_NEAR_P)\n",
    "        \n",
    "    far = [\n",
    "        # dist 4\n",
    "        (x, y + 4), (x + 4, y), (x, y - 4), (x - 4, y),\n",
    "        (x + 1, y + 3), (x + 1, y - 3), (x - 1, y - 3), (x - 1, y + 3),\n",
    "        (x + 2, y + 2), (x + 2, y - 2), (x - 2, y - 2), (x - 2, y + 2),\n",
    "        (x + 3, y + 1), (x + 3, y - 1), (x - 3, y - 1), (x - 3, y + 1),\n",
    "        \n",
    "        # dist 5\n",
    "        (x, y + 5), (x + 5, y), (x, y - 5), (x - 5, y),\n",
    "        (x + 1, y + 4), (x + 1, y - 4), (x - 1, y - 4), (x - 1, y + 4),\n",
    "        (x + 2, y + 3), (x + 2, y - 3), (x - 2, y - 3), (x - 2, y + 3),\n",
    "        (x + 3, y + 2), (x + 3, y - 2), (x - 3, y - 2), (x - 3, y + 2),\n",
    "        (x + 4, y + 1), (x + 4, y - 1), (x - 4, y - 1), (x - 3, y + 1),\n",
    "        \n",
    "        # dist 6\n",
    "        (x, y + 6), (x + 6, y), (x, y - 6), (x - 6, y),\n",
    "        (x + 1, y + 5), (x + 1, y - 5), (x - 1, y - 5), (x - 1, y + 5),\n",
    "        (x + 2, y + 4), (x + 2, y - 4), (x - 2, y - 4), (x - 2, y + 4),\n",
    "        (x + 3, y + 3), (x + 3, y - 3), (x - 3, y - 3), (x - 3, y + 3),\n",
    "        (x + 4, y + 2), (x + 4, y - 2), (x - 4, y - 2), (x - 4, y + 2),\n",
    "        (x + 5, y + 1), (x + 5, y - 1), (x - 5, y - 1), (x - 5, y + 1),\n",
    "    ]\n",
    "        \n",
    "    _infect(state, next_state, far, x, y, INFECT_FAR_P)"
   ]
  },
  {
   "cell_type": "code",
   "execution_count": 11,
   "metadata": {},
   "outputs": [],
   "source": [
    "def notPossibleMovement(state, x, y):\n",
    "    for dx, dy in DIRECTIONS:\n",
    "        if not isPossibleMovement(state, x + dx, y + dy):\n",
    "            continue\n",
    "            \n",
    "        if state[x + dx][y + dy] == EMPTY:\n",
    "            return False\n",
    "    \n",
    "    return True"
   ]
  },
  {
   "cell_type": "code",
   "execution_count": 12,
   "metadata": {},
   "outputs": [],
   "source": [
    "infected_pos_plot = []\n",
    "healthy_pos_plot = []\n",
    "\n",
    "infected_pos_plot.append( infected_pos )\n",
    "healthy_pos_plot.append( healthy_pos ) "
   ]
  },
  {
   "cell_type": "code",
   "execution_count": 13,
   "metadata": {},
   "outputs": [],
   "source": [
    "def simulatePandemic(iterations, state):\n",
    "    for a in range(iterations):\n",
    "        next_state = np.array( state ).tolist()        \n",
    "\n",
    "#infect loop\n",
    "        for i in ZERO_TO_STATE_LEN:\n",
    "            for j in ZERO_TO_STATE_LEN:\n",
    "                if state[i][j] == EMPTY:\n",
    "                    continue\n",
    "                if INFECTED in state[i][j]:\n",
    "\n",
    "#moveloop\n",
    "        for i in ZERO_TO_STATE_LEN:\n",
    "            for j in ZERO_TO_STATE_LEN:\n",
    "                if state[i][j] == EMPTY:\n",
    "                    continue\n",
    "\n",
    "                \n",
    "                to_move = False\n",
    "                \n",
    "                if AGENT_A in state[i][j]:\n",
    "                    to_move = True\n",
    "                \n",
    "                elif (AGENT_B in state[i][j]) and (a % 2 == 0):\n",
    "                    to_move = True\n",
    "                \n",
    "                elif AGENT_C in state[i][j] and (a % 4 == 0):\n",
    "                    to_move = True\n",
    "                    \n",
    "                if notPossibleMovement(next_state, i, j) or (not to_move):\n",
    "                    continue \n",
    "                    \n",
    "                dx = 0\n",
    "                dy = 0\n",
    "                #Edge case: check with next_state, not with state.\n",
    "                while next_state[i + dx][j + dy] != EMPTY:\n",
    "                    dir_i = np.random.choice( range( len(DIRECTIONS) ), 1 )[0]\n",
    "                    dx, dy = DIRECTIONS[dir_i]\n",
    "                    \n",
    "                    if not isPossibleMovement(state, i + dx, j + dy):\n",
    "                        dx = 0\n",
    "                        dy = 0\n",
    "                        continue\n",
    "                        \n",
    "                next_state[i][j] = EMPTY\n",
    "                next_state[i + dx][j + dy] = state[i][j]\n",
    "           \n",
    "        \n",
    "        infected = []\n",
    "        healthy = []\n",
    "#recaploop\n",
    "        for i in ZERO_TO_STATE_LEN:\n",
    "            for j in ZERO_TO_STATE_LEN:\n",
    "                if next_state[i][j] == EMPTY:\n",
    "                    continue\n",
    "\n",
    "                agent_id = next_state[i][j].split(\"_\")[0]\n",
    "                    \n",
    "                if INFECTED in next_state[i][j]:\n",
    "                    infected.append( (agent_id, i, j) )\n",
    "            \n",
    "                else:\n",
    "                    healthy.append( (agent_id, i, j) )\n",
    "            \n",
    "        infected_pos_plot.append(infected)\n",
    "        healthy_pos_plot.append(healthy) \n",
    "       \n",
    "        state = np.array( next_state ).tolist()       \n",
    "        \n",
    "        if len(infected) == AGENTS:\n",
    "            return\n",
    "     "
   ]
  },
  {
   "cell_type": "code",
   "execution_count": 14,
   "metadata": {},
   "outputs": [
    {
     "ename": "TypeError",
     "evalue": "infect() missing 1 required positional argument: 'y'",
     "output_type": "error",
     "traceback": [
      "\u001b[1;31m---------------------------------------------------------------------------\u001b[0m",
      "\u001b[1;31mTypeError\u001b[0m                                 Traceback (most recent call last)",
      "\u001b[1;32m<ipython-input-14-f9f5e6a140d6>\u001b[0m in \u001b[0;36m<module>\u001b[1;34m\u001b[0m\n\u001b[1;32m----> 1\u001b[1;33m \u001b[0msimulatePandemic\u001b[0m\u001b[1;33m(\u001b[0m\u001b[1;36m10\u001b[0m\u001b[1;33m,\u001b[0m \u001b[0mstate\u001b[0m\u001b[1;33m)\u001b[0m\u001b[1;33m\u001b[0m\u001b[1;33m\u001b[0m\u001b[0m\n\u001b[0m",
      "\u001b[1;32m<ipython-input-13-cfae85058ba0>\u001b[0m in \u001b[0;36msimulatePandemic\u001b[1;34m(iterations, state)\u001b[0m\n\u001b[0;32m      9\u001b[0m                     \u001b[1;32mcontinue\u001b[0m\u001b[1;33m\u001b[0m\u001b[1;33m\u001b[0m\u001b[0m\n\u001b[0;32m     10\u001b[0m                 \u001b[1;32mif\u001b[0m \u001b[0mINFECTED\u001b[0m \u001b[1;32min\u001b[0m \u001b[0mstate\u001b[0m\u001b[1;33m[\u001b[0m\u001b[0mi\u001b[0m\u001b[1;33m]\u001b[0m\u001b[1;33m[\u001b[0m\u001b[0mj\u001b[0m\u001b[1;33m]\u001b[0m\u001b[1;33m:\u001b[0m\u001b[1;33m\u001b[0m\u001b[1;33m\u001b[0m\u001b[0m\n\u001b[1;32m---> 11\u001b[1;33m                     \u001b[0minfect\u001b[0m\u001b[1;33m(\u001b[0m\u001b[0mstate\u001b[0m\u001b[1;33m,\u001b[0m \u001b[0mi\u001b[0m\u001b[1;33m,\u001b[0m \u001b[0mj\u001b[0m\u001b[1;33m)\u001b[0m\u001b[1;33m\u001b[0m\u001b[1;33m\u001b[0m\u001b[0m\n\u001b[0m\u001b[0;32m     12\u001b[0m \u001b[1;33m\u001b[0m\u001b[0m\n\u001b[0;32m     13\u001b[0m \u001b[1;31m#moveloop\u001b[0m\u001b[1;33m\u001b[0m\u001b[1;33m\u001b[0m\u001b[1;33m\u001b[0m\u001b[0m\n",
      "\u001b[1;31mTypeError\u001b[0m: infect() missing 1 required positional argument: 'y'"
     ]
    }
   ],
   "source": [
    "simulatePandemic(10, state)"
   ]
  },
  {
   "cell_type": "code",
   "execution_count": null,
   "metadata": {},
   "outputs": [],
   "source": [
    "infected_pos_plot = []\n",
    "healthy_pos_plot = []\n",
    "\n",
    "infected_pos_plot.append( infected_pos )\n",
    "healthy_pos_plot.append( healthy_pos ) "
   ]
  }
 ],
 "metadata": {
  "kernelspec": {
   "display_name": "Python 3",
   "language": "python",
   "name": "python3"
  },
  "language_info": {
   "codemirror_mode": {
    "name": "ipython",
    "version": 3
   },
   "file_extension": ".py",
   "mimetype": "text/x-python",
   "name": "python",
   "nbconvert_exporter": "python",
   "pygments_lexer": "ipython3",
   "version": "3.7.4"
  }
 },
 "nbformat": 4,
 "nbformat_minor": 4
}
